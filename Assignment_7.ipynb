{
  "nbformat": 4,
  "nbformat_minor": 0,
  "metadata": {
    "colab": {
      "name": "Assignment-7.ipynb",
      "provenance": [],
      "collapsed_sections": [],
      "authorship_tag": "ABX9TyO+gBotzl2h5b0viFTPIxH3",
      "include_colab_link": true
    },
    "kernelspec": {
      "name": "python3",
      "display_name": "Python 3"
    }
  },
  "cells": [
    {
      "cell_type": "markdown",
      "metadata": {
        "id": "view-in-github",
        "colab_type": "text"
      },
      "source": [
        "<a href=\"https://colab.research.google.com/github/durgadevi-392/python-Essential-Lu-7/blob/master/Assignment_7.ipynb\" target=\"_parent\"><img src=\"https://colab.research.google.com/assets/colab-badge.svg\" alt=\"Open In Colab\"/></a>"
      ]
    },
    {
      "cell_type": "markdown",
      "metadata": {
        "id": "Nadex89ZWxo-",
        "colab_type": "text"
      },
      "source": [
        "Program to create a new dictionary in which keys becomes values and  values becomes keys"
      ]
    },
    {
      "cell_type": "code",
      "metadata": {
        "id": "QRK7FTbVWtVa",
        "colab_type": "code",
        "colab": {
          "base_uri": "https://localhost:8080/",
          "height": 54
        },
        "outputId": "fa663dd6-67ed-4d46-b0f9-3861c5a433da"
      },
      "source": [
        " \n",
        "dict1 = {21:\"ftp\",22:\"ssh\",23:\"telnet\",80:\"http\"} \n",
        "dict2 ={value:key         for key,value in dict1.items()}\n",
        "print(\"The output:\",dict2)"
      ],
      "execution_count": null,
      "outputs": [
        {
          "output_type": "stream",
          "text": [
            "The output: {'ftp': 21, 'ssh': 22, 'telnet': 23, 'http': 80}\n"
          ],
          "name": "stdout"
        }
      ]
    },
    {
      "cell_type": "markdown",
      "metadata": {
        "id": "JrY8_scmX7kH",
        "colab_type": "text"
      },
      "source": [
        "Program to make a new list which contains the sum of tuple"
      ]
    },
    {
      "cell_type": "code",
      "metadata": {
        "id": "TlhrFp4OX5ov",
        "colab_type": "code",
        "colab": {
          "base_uri": "https://localhost:8080/",
          "height": 54
        },
        "outputId": "81b23903-efc7-4a43-a43e-1fc15724a532"
      },
      "source": [
        "list1=[(1,2),(3,4),(5,6),(4,5)]\n",
        "list2=[]\n",
        "for each in range(0,len(list1)):\n",
        "  a,b=list1[each]\n",
        "  list2.append(a+b)\n",
        "print(\"The list contains sum of tuple:\",list2)"
      ],
      "execution_count": null,
      "outputs": [
        {
          "output_type": "stream",
          "text": [
            "The list contains sum of tuple: [3, 7, 11, 9]\n"
          ],
          "name": "stdout"
        }
      ]
    },
    {
      "cell_type": "markdown",
      "metadata": {
        "id": "9wqpzVTWY7Az",
        "colab_type": "text"
      },
      "source": [
        "Program to make the elements in the inner list and tuple to the outer list"
      ]
    },
    {
      "cell_type": "code",
      "metadata": {
        "id": "BwvpEVrhZfvb",
        "colab_type": "code",
        "colab": {
          "base_uri": "https://localhost:8080/",
          "height": 54
        },
        "outputId": "af51eaa4-8f89-4782-9e66-e3a62e14b02d"
      },
      "source": [
        " \n",
        "list1=[(1,2,3),[1,2],['a','hit','less']]\n",
        "list2=[]\n",
        "list2=[i for each in list1 for i in each]\n",
        "print (\"The output is:\",list2)"
      ],
      "execution_count": 5,
      "outputs": [
        {
          "output_type": "stream",
          "text": [
            "The output is: [1, 2, 3, 1, 2, 'a', 'hit', 'less']\n"
          ],
          "name": "stdout"
        }
      ]
    }
  ]
}